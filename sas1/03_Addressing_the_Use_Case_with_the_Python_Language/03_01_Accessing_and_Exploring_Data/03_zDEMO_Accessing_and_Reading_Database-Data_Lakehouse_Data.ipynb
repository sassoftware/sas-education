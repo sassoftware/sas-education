{
 "cells": [
  {
   "cell_type": "markdown",
   "metadata": {},
   "source": [
    "# Accessing and Reading Database/Data Lakehouse Data\n",
    "\n",
    "**Snowflake demonstration only.**\n",
    "\n",
    "Use the alternative notebook (**03_Accessing_and_Reading_Database-Data_Lakehouse_Data.ipynb**) if you want to run the code in your environment."
   ]
  },
  {
   "cell_type": "markdown",
   "metadata": {},
   "source": [
    "First, install the required Python libraries if not done already. See\n",
    "[Installing Required Python Libraries](../00_Installing_Required_Python_Libraries.md).\n",
    "\n",
    "If you're new to Python, you might be interested in [Introduction to Python Lists and Dictionaries for Data Science](../01_Introduction_to_Python_Data_Types.md).\n",
    "\n",
    "Begin by importing the required packages."
   ]
  },
  {
   "cell_type": "code",
   "execution_count": 10,
   "metadata": {
    "metadata": {}
   },
   "outputs": [],
   "source": [
    "import pandas as pd\n",
    "\n",
    "import snowflake as sf\n",
    "import snowflake.connector\n",
    "import json"
   ]
  },
  {
   "cell_type": "markdown",
   "metadata": {},
   "source": [
    "#### Initialize Database connection variables"
   ]
  },
  {
   "cell_type": "markdown",
   "metadata": {},
   "source": [
    "Credentials are stored in the snowflake_cred.json file and need to be accessed. Hard coding credentials should always be avoided.\n",
    "\n",
    "A Snowflake credentials file can look like this:\n",
    "\n",
    "```json\n",
    "{\n",
    "    \"account\": \"<account>>\",\n",
    "    \"user\": \"<user>\",\n",
    "    \"password\": \"<password>\",\n",
    "    \"database\": \"<database>\",\n",
    "    \"warehouse\": \"<warehouse>\",\n",
    "    \"schema\": \"<schema>\"\n",
    "}\n",
    "```"
   ]
  },
  {
   "cell_type": "code",
   "execution_count": 11,
   "metadata": {
    "metadata": {}
   },
   "outputs": [],
   "source": [
    "sf_credential = '../../keys/snowflake_cred.json'\n",
    "\n",
    "with open(sf_credential, \"r\") as f:\n",
    "    sf_credentials_dict = json.load(f)"
   ]
  },
  {
   "cell_type": "markdown",
   "metadata": {},
   "source": [
    "#### Connection to Snowflake  Database "
   ]
  },
  {
   "cell_type": "markdown",
   "metadata": {},
   "source": [
    "We open the connection by calling sf.connector.connect() with the parameters set to our credentials."
   ]
  },
  {
   "cell_type": "code",
   "execution_count": 12,
   "metadata": {
    "metadata": {}
   },
   "outputs": [],
   "source": [
    "conn = sf.connector.connect(**sf_credentials_dict)"
   ]
  },
  {
   "cell_type": "markdown",
   "metadata": {},
   "source": [
    "Create a cursor object from the connection to execute queries:"
   ]
  },
  {
   "cell_type": "code",
   "execution_count": 13,
   "metadata": {
    "metadata": {}
   },
   "outputs": [
    {
     "data": {
      "text/plain": [
       "<snowflake.connector.cursor.SnowflakeCursor at 0x7f8204bc3dd0>"
      ]
     },
     "execution_count": 13,
     "metadata": {},
     "output_type": "execute_result"
    }
   ],
   "source": [
    "cursor = conn.cursor()\n",
    "\n",
    "cursor"
   ]
  },
  {
   "cell_type": "markdown",
   "metadata": {},
   "source": [
    "### Read data from Snowflake database table."
   ]
  },
  {
   "cell_type": "markdown",
   "metadata": {},
   "source": [
    "Execute Snowflake queries with the .execute() method.\n",
    "\n",
    "NB: The table name will always be capitalized in a Snowflake query unless you encapsulate it in quotes!"
   ]
  },
  {
   "cell_type": "code",
   "execution_count": 14,
   "metadata": {
    "metadata": {}
   },
   "outputs": [
    {
     "data": {
      "text/html": [
       "<div>\n",
       "<style scoped>\n",
       "    .dataframe tbody tr th:only-of-type {\n",
       "        vertical-align: middle;\n",
       "    }\n",
       "\n",
       "    .dataframe tbody tr th {\n",
       "        vertical-align: top;\n",
       "    }\n",
       "\n",
       "    .dataframe thead th {\n",
       "        text-align: right;\n",
       "    }\n",
       "</style>\n",
       "<table border=\"1\" class=\"dataframe\">\n",
       "  <thead>\n",
       "    <tr style=\"text-align: right;\">\n",
       "      <th></th>\n",
       "      <th>custId</th>\n",
       "      <th>DemHomeOwnerCode</th>\n",
       "      <th>customerGender</th>\n",
       "      <th>EstimatedIncome</th>\n",
       "      <th>regionMedHomeVal</th>\n",
       "      <th>customerSubscrCode</th>\n",
       "      <th>birthDate</th>\n",
       "    </tr>\n",
       "  </thead>\n",
       "  <tbody>\n",
       "    <tr>\n",
       "      <th>0</th>\n",
       "      <td>1.0</td>\n",
       "      <td>H</td>\n",
       "      <td>F</td>\n",
       "      <td>3000.0</td>\n",
       "      <td>96980.0</td>\n",
       "      <td>3.0</td>\n",
       "      <td>1989-03-19</td>\n",
       "    </tr>\n",
       "    <tr>\n",
       "      <th>1</th>\n",
       "      <td>1000.0</td>\n",
       "      <td>H</td>\n",
       "      <td>F</td>\n",
       "      <td>105000.0</td>\n",
       "      <td>316420.0</td>\n",
       "      <td>3.0</td>\n",
       "      <td>1994-11-07</td>\n",
       "    </tr>\n",
       "    <tr>\n",
       "      <th>2</th>\n",
       "      <td>999.0</td>\n",
       "      <td>H</td>\n",
       "      <td>F</td>\n",
       "      <td>105000.0</td>\n",
       "      <td>296920.0</td>\n",
       "      <td>3.0</td>\n",
       "      <td>None</td>\n",
       "    </tr>\n",
       "    <tr>\n",
       "      <th>3</th>\n",
       "      <td>998.0</td>\n",
       "      <td>H</td>\n",
       "      <td>F</td>\n",
       "      <td>105000.0</td>\n",
       "      <td>203320.0</td>\n",
       "      <td>3.0</td>\n",
       "      <td>1996-05-04</td>\n",
       "    </tr>\n",
       "    <tr>\n",
       "      <th>4</th>\n",
       "      <td>997.0</td>\n",
       "      <td>H</td>\n",
       "      <td>F</td>\n",
       "      <td>105000.0</td>\n",
       "      <td>153400.0</td>\n",
       "      <td>3.0</td>\n",
       "      <td>1988-11-05</td>\n",
       "    </tr>\n",
       "    <tr>\n",
       "      <th>...</th>\n",
       "      <td>...</td>\n",
       "      <td>...</td>\n",
       "      <td>...</td>\n",
       "      <td>...</td>\n",
       "      <td>...</td>\n",
       "      <td>...</td>\n",
       "      <td>...</td>\n",
       "    </tr>\n",
       "    <tr>\n",
       "      <th>4993</th>\n",
       "      <td>4006.0</td>\n",
       "      <td>U</td>\n",
       "      <td>M</td>\n",
       "      <td>43000.0</td>\n",
       "      <td>53690.0</td>\n",
       "      <td>2.0</td>\n",
       "      <td>1992-07-10</td>\n",
       "    </tr>\n",
       "    <tr>\n",
       "      <th>4994</th>\n",
       "      <td>4005.0</td>\n",
       "      <td>U</td>\n",
       "      <td>M</td>\n",
       "      <td>43000.0</td>\n",
       "      <td>49530.0</td>\n",
       "      <td>2.0</td>\n",
       "      <td>None</td>\n",
       "    </tr>\n",
       "    <tr>\n",
       "      <th>4995</th>\n",
       "      <td>4004.0</td>\n",
       "      <td>U</td>\n",
       "      <td>M</td>\n",
       "      <td>43000.0</td>\n",
       "      <td>48360.0</td>\n",
       "      <td>2.0</td>\n",
       "      <td>None</td>\n",
       "    </tr>\n",
       "    <tr>\n",
       "      <th>4996</th>\n",
       "      <td>4003.0</td>\n",
       "      <td>U</td>\n",
       "      <td>M</td>\n",
       "      <td>43000.0</td>\n",
       "      <td>39910.0</td>\n",
       "      <td>2.0</td>\n",
       "      <td>None</td>\n",
       "    </tr>\n",
       "    <tr>\n",
       "      <th>4997</th>\n",
       "      <td>4002.0</td>\n",
       "      <td>U</td>\n",
       "      <td>M</td>\n",
       "      <td>43000.0</td>\n",
       "      <td>34580.0</td>\n",
       "      <td>2.0</td>\n",
       "      <td>2002-11-27</td>\n",
       "    </tr>\n",
       "  </tbody>\n",
       "</table>\n",
       "<p>4998 rows × 7 columns</p>\n",
       "</div>"
      ],
      "text/plain": [
       "      custId DemHomeOwnerCode customerGender  EstimatedIncome  \\\n",
       "0        1.0                H              F           3000.0   \n",
       "1     1000.0                H              F         105000.0   \n",
       "2      999.0                H              F         105000.0   \n",
       "3      998.0                H              F         105000.0   \n",
       "4      997.0                H              F         105000.0   \n",
       "...      ...              ...            ...              ...   \n",
       "4993  4006.0                U              M          43000.0   \n",
       "4994  4005.0                U              M          43000.0   \n",
       "4995  4004.0                U              M          43000.0   \n",
       "4996  4003.0                U              M          43000.0   \n",
       "4997  4002.0                U              M          43000.0   \n",
       "\n",
       "      regionMedHomeVal  customerSubscrCode   birthDate  \n",
       "0              96980.0                 3.0  1989-03-19  \n",
       "1             316420.0                 3.0  1994-11-07  \n",
       "2             296920.0                 3.0        None  \n",
       "3             203320.0                 3.0  1996-05-04  \n",
       "4             153400.0                 3.0  1988-11-05  \n",
       "...                ...                 ...         ...  \n",
       "4993           53690.0                 2.0  1992-07-10  \n",
       "4994           49530.0                 2.0        None  \n",
       "4995           48360.0                 2.0        None  \n",
       "4996           39910.0                 2.0        None  \n",
       "4997           34580.0                 2.0  2002-11-27  \n",
       "\n",
       "[4998 rows x 7 columns]"
      ]
     },
     "execution_count": 14,
     "metadata": {},
     "output_type": "execute_result"
    }
   ],
   "source": [
    "customers_df = cursor.execute('select * from \"customers\"').fetch_pandas_all()\n",
    "\n",
    "customers_df"
   ]
  },
  {
   "cell_type": "markdown",
   "metadata": {},
   "source": [
    "Always close the connection when finished!"
   ]
  },
  {
   "cell_type": "code",
   "execution_count": 15,
   "metadata": {
    "metadata": {}
   },
   "outputs": [],
   "source": [
    "conn.close()"
   ]
  }
 ],
 "metadata": {
  "kernelspec": {
   "display_name": "Python 3",
   "language": "python",
   "name": "python3"
  },
  "language_info": {
   "codemirror_mode": {
    "name": "ipython",
    "version": 3
   },
   "file_extension": ".py",
   "mimetype": "text/x-python",
   "name": "python",
   "nbconvert_exporter": "python",
   "pygments_lexer": "ipython3",
   "version": "3.11.9"
  }
 },
 "nbformat": 4,
 "nbformat_minor": 2
}
