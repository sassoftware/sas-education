{
 "cells": [
  {
   "cell_type": "markdown",
   "metadata": {},
   "source": [
    "# Transforming and Enriching Data\n",
    "\n",
    "First, install the required Python libraries if not done already. See\n",
    "[Installing Required Python Libraries](../00_Installing_Required_Python_Libraries.md).\n",
    "\n",
    "Begin by importing the required packages."
   ]
  },
  {
   "cell_type": "code",
   "execution_count": 1,
   "metadata": {},
   "outputs": [],
   "source": [
    "import pandas as pd"
   ]
  },
  {
   "cell_type": "markdown",
   "metadata": {},
   "source": [
    "## Run the data access notebooks"
   ]
  },
  {
   "cell_type": "code",
   "execution_count": 2,
   "metadata": {},
   "outputs": [
    {
     "name": "stdout",
     "output_type": "stream",
     "text": [
      "<class 'pandas.core.frame.DataFrame'>\n",
      "RangeIndex: 3 entries, 0 to 2\n",
      "Data columns (total 2 columns):\n",
      " #   Column              Non-Null Count  Dtype \n",
      "---  ------              --------------  ----- \n",
      " 0   customerSubscrCode  3 non-null      int64 \n",
      " 1   customerSubscrStat  3 non-null      object\n",
      "dtypes: int64(1), object(1)\n",
      "memory usage: 180.0+ bytes\n",
      "<class 'pandas.core.frame.DataFrame'>\n",
      "RangeIndex: 5000 entries, 0 to 4999\n",
      "Data columns (total 22 columns):\n",
      " #   Column                  Non-Null Count  Dtype  \n",
      "---  ------                  --------------  -----  \n",
      " 0   ID                      5000 non-null   float64\n",
      " 1   LostCustomer            5000 non-null   float64\n",
      " 2   regionPctCustomers      5000 non-null   float64\n",
      " 3   numOfTotalReturns       5000 non-null   float64\n",
      " 4   wksSinceLastPurch       5000 non-null   float64\n",
      " 5   basktPurchCount12Month  5000 non-null   float64\n",
      " 6   LastPurchaseAmount      5000 non-null   float64\n",
      " 7   AvgPurchaseAmount12     5000 non-null   float64\n",
      " 8   AvgPurchaseAmountTotal  5000 non-null   float64\n",
      " 9   intAdExposureCount12    5000 non-null   float64\n",
      " 10  intAdExposureCount36    5000 non-null   float64\n",
      " 11  intAdExposureCountAll   5000 non-null   float64\n",
      " 12  socialMediaAdCount12    5000 non-null   float64\n",
      " 13  socialMediaAdCount36    5000 non-null   float64\n",
      " 14  socialMediaAdCountAll   5000 non-null   float64\n",
      " 15  totalNumProdPurchased   5000 non-null   float64\n",
      " 16  custInitiatedContacts   5000 non-null   float64\n",
      " 17  avgDiscountValue12      3618 non-null   float64\n",
      " 18  customersales           5000 non-null   float64\n",
      " 19  wksSinceFirstPurch      5000 non-null   float64\n",
      " 20  reviewId                782 non-null    float64\n",
      " 21  custId                  5000 non-null   float64\n",
      "dtypes: float64(22)\n",
      "memory usage: 859.5 KB\n",
      "<class 'pandas.core.frame.DataFrame'>\n",
      "RangeIndex: 4998 entries, 0 to 4997\n",
      "Data columns (total 7 columns):\n",
      " #   Column              Non-Null Count  Dtype        \n",
      "---  ------              --------------  -----        \n",
      " 0   custId              4998 non-null   float64      \n",
      " 1   DemHomeOwnerCode    4998 non-null   object       \n",
      " 2   customerGender      4998 non-null   object       \n",
      " 3   EstimatedIncome     4998 non-null   float64      \n",
      " 4   regionMedHomeVal    4998 non-null   float64      \n",
      " 5   customerSubscrCode  4998 non-null   float64      \n",
      " 6   birthDate           3741 non-null   datetime64[s]\n",
      "dtypes: datetime64[s](1), float64(4), object(2)\n",
      "memory usage: 273.5+ KB\n"
     ]
    }
   ],
   "source": [
    "%run '../03_01_Accessing_and_Exploring_Data/01_Accessing_and_Reading_Local_Files.ipynb'\n",
    "%run '../03_01_Accessing_and_Exploring_Data/02_Accessing_and_Reading_Data_Lake_Files.ipynb'\n",
    "%run '../03_01_Accessing_and_Exploring_Data/03_Accessing_and_Reading_Database-Data_Lakehouse_Data.ipynb'"
   ]
  },
  {
   "cell_type": "markdown",
   "metadata": {},
   "source": [
    "## Run the data joining notebook"
   ]
  },
  {
   "cell_type": "code",
   "execution_count": 3,
   "metadata": {},
   "outputs": [
    {
     "name": "stdout",
     "output_type": "stream",
     "text": [
      "<class 'pandas.core.frame.DataFrame'>\n",
      "RangeIndex: 3 entries, 0 to 2\n",
      "Data columns (total 2 columns):\n",
      " #   Column              Non-Null Count  Dtype \n",
      "---  ------              --------------  ----- \n",
      " 0   customerSubscrCode  3 non-null      int64 \n",
      " 1   customerSubscrStat  3 non-null      object\n",
      "dtypes: int64(1), object(1)\n",
      "memory usage: 180.0+ bytes\n",
      "<class 'pandas.core.frame.DataFrame'>\n",
      "RangeIndex: 5000 entries, 0 to 4999\n",
      "Data columns (total 22 columns):\n",
      " #   Column                  Non-Null Count  Dtype  \n",
      "---  ------                  --------------  -----  \n",
      " 0   ID                      5000 non-null   float64\n",
      " 1   LostCustomer            5000 non-null   float64\n",
      " 2   regionPctCustomers      5000 non-null   float64\n",
      " 3   numOfTotalReturns       5000 non-null   float64\n",
      " 4   wksSinceLastPurch       5000 non-null   float64\n",
      " 5   basktPurchCount12Month  5000 non-null   float64\n",
      " 6   LastPurchaseAmount      5000 non-null   float64\n",
      " 7   AvgPurchaseAmount12     5000 non-null   float64\n",
      " 8   AvgPurchaseAmountTotal  5000 non-null   float64\n",
      " 9   intAdExposureCount12    5000 non-null   float64\n",
      " 10  intAdExposureCount36    5000 non-null   float64\n",
      " 11  intAdExposureCountAll   5000 non-null   float64\n",
      " 12  socialMediaAdCount12    5000 non-null   float64\n",
      " 13  socialMediaAdCount36    5000 non-null   float64\n",
      " 14  socialMediaAdCountAll   5000 non-null   float64\n",
      " 15  totalNumProdPurchased   5000 non-null   float64\n",
      " 16  custInitiatedContacts   5000 non-null   float64\n",
      " 17  avgDiscountValue12      3618 non-null   float64\n",
      " 18  customersales           5000 non-null   float64\n",
      " 19  wksSinceFirstPurch      5000 non-null   float64\n",
      " 20  reviewId                782 non-null    float64\n",
      " 21  custId                  5000 non-null   float64\n",
      "dtypes: float64(22)\n",
      "memory usage: 859.5 KB\n",
      "<class 'pandas.core.frame.DataFrame'>\n",
      "RangeIndex: 4998 entries, 0 to 4997\n",
      "Data columns (total 7 columns):\n",
      " #   Column              Non-Null Count  Dtype        \n",
      "---  ------              --------------  -----        \n",
      " 0   custId              4998 non-null   float64      \n",
      " 1   DemHomeOwnerCode    4998 non-null   object       \n",
      " 2   customerGender      4998 non-null   object       \n",
      " 3   EstimatedIncome     4998 non-null   float64      \n",
      " 4   regionMedHomeVal    4998 non-null   float64      \n",
      " 5   customerSubscrCode  4998 non-null   float64      \n",
      " 6   birthDate           3741 non-null   datetime64[s]\n",
      "dtypes: datetime64[s](1), float64(4), object(2)\n",
      "memory usage: 273.5+ KB\n"
     ]
    }
   ],
   "source": [
    "%run './01_Combining_Data.ipynb'"
   ]
  },
  {
   "cell_type": "markdown",
   "metadata": {},
   "source": [
    "## Feature Engineering\n",
    "\n",
    "### Replace codes with labels for demHomeOwner"
   ]
  },
  {
   "cell_type": "code",
   "execution_count": 4,
   "metadata": {
    "metadata": {}
   },
   "outputs": [
    {
     "data": {
      "text/plain": [
       "0      Unknown\n",
       "1    HomeOwner\n",
       "2    HomeOwner\n",
       "3      Unknown\n",
       "4    HomeOwner\n",
       "Name: demHomeOwner, dtype: object"
      ]
     },
     "execution_count": 4,
     "metadata": {},
     "output_type": "execute_result"
    }
   ],
   "source": [
    "df['demHomeOwner'] = df['DemHomeOwnerCode'].map( {'U': 'Unknown', 'H':'HomeOwner'} )\n",
    "\n",
    "df.drop(columns='DemHomeOwnerCode', inplace=True)\n",
    "\n",
    "df['demHomeOwner'].head()"
   ]
  },
  {
   "cell_type": "markdown",
   "metadata": {},
   "source": [
    "### Compute customer age"
   ]
  },
  {
   "cell_type": "code",
   "execution_count": 5,
   "metadata": {
    "metadata": {}
   },
   "outputs": [
    {
     "data": {
      "text/plain": [
       "0    19.0\n",
       "1    50.0\n",
       "2    18.0\n",
       "3    18.0\n",
       "4    22.0\n",
       "Name: customerAge, dtype: float64"
      ]
     },
     "execution_count": 5,
     "metadata": {},
     "output_type": "execute_result"
    }
   ],
   "source": [
    "import numpy as np\n",
    "\n",
    "df['customerAge'] = ((pd.Timestamp.now() - pd.to_datetime(df['birthDate'])).dt.days / 365.25)\n",
    "\n",
    "df['customerAge'] = df['customerAge'].apply(lambda x: int(x) if pd.notnull(x) else np.nan)\n",
    "\n",
    "df['customerAge'].head()"
   ]
  },
  {
   "cell_type": "markdown",
   "metadata": {},
   "source": [
    "### Compute average purchase amount per ad"
   ]
  },
  {
   "cell_type": "code",
   "execution_count": 6,
   "metadata": {
    "metadata": {}
   },
   "outputs": [
    {
     "data": {
      "text/plain": [
       "0    0.000000\n",
       "1    4.807692\n",
       "2    0.000000\n",
       "3    1.290323\n",
       "4    0.000000\n",
       "Name: AvgPurchasePerAd, dtype: float64"
      ]
     },
     "execution_count": 6,
     "metadata": {},
     "output_type": "execute_result"
    }
   ],
   "source": [
    "df['AvgPurchasePerAd'] = df['AvgPurchaseAmount12'] / df['intAdExposureCount12']\n",
    "\n",
    "df['AvgPurchasePerAd'].head()"
   ]
  }
 ],
 "metadata": {
  "kernelspec": {
   "display_name": "Python 3",
   "language": "python",
   "name": "python3"
  },
  "language_info": {
   "codemirror_mode": {
    "name": "ipython",
    "version": 3
   },
   "file_extension": ".py",
   "mimetype": "text/x-python",
   "name": "python",
   "nbconvert_exporter": "python",
   "pygments_lexer": "ipython3",
   "version": "3.11.9"
  }
 },
 "nbformat": 4,
 "nbformat_minor": 2
}
